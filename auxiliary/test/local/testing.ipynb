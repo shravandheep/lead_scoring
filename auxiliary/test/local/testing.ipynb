{
 "cells": [
  {
   "cell_type": "code",
   "execution_count": 27,
   "metadata": {},
   "outputs": [],
   "source": [
    "import json\n",
    "import joblib\n",
    "import random\n",
    "import pickle\n",
    "import requests\n",
    "\n",
    "import numpy as np\n",
    "import pandas as pd\n",
    "\n",
    "from copy import deepcopy"
   ]
  },
  {
   "cell_type": "code",
   "execution_count": 28,
   "metadata": {},
   "outputs": [],
   "source": [
    "## Local Flask server endpoint\n",
    "\n",
    "local = '127.0.0.1'\n",
    "port = 9000\n",
    "route = 'api/v1/process'\n",
    "\n",
    "endpoint = f'http://{local}:{port}/{route}'"
   ]
  },
  {
   "cell_type": "code",
   "execution_count": 29,
   "metadata": {},
   "outputs": [],
   "source": [
    "data = json.load(open('payloads/sample_payload.json'))"
   ]
  },
  {
   "cell_type": "code",
   "execution_count": 30,
   "metadata": {},
   "outputs": [],
   "source": [
    "payload = {\n",
    "    \"packet_id\": \"123456\",\n",
    "    \"node_id\" : \"123\",\n",
    "    \"mad_id\" : \"12345\",\n",
    "    \"batch_id\" : \"1245\",\n",
    "    \"graph\" : {\n",
    "        \"id\" : \"g-123\"\n",
    "    },\n",
    "    \"resultset\" :{ \n",
    "        \"results\" : {\n",
    "            \n",
    "            \"input\": {\n",
    "                \"result\" : data,\n",
    "                \"status\" : \"SUCCESS\"\n",
    "            },   \n",
    "        }\n",
    "    }\n",
    "}"
   ]
  },
  {
   "cell_type": "code",
   "execution_count": 34,
   "metadata": {},
   "outputs": [],
   "source": [
    "# Additional\n",
    "payload['resultset']['results']['l1_model'] = { \n",
    "                \"result\" : {\n",
    "                    'l1_score' : 0.1,\n",
    "                    'l1_reason' : ''\n",
    "                },\n",
    "                \"status\" : \"SUCCESS\"\n",
    "            }\n",
    "\n",
    "payload['resultset']['results']['l2_model'] = {\n",
    "                \"result\" : {\n",
    "                    'l2_score' : 0.3,\n",
    "                    'l2_reason' : ''\n",
    "                },\n",
    "                \"status\" : \"SUCCESS\"\n",
    "            }"
   ]
  },
  {
   "cell_type": "code",
   "execution_count": 52,
   "metadata": {},
   "outputs": [],
   "source": [
    "x = requests.post(endpoint, json=payload) "
   ]
  },
  {
   "cell_type": "code",
   "execution_count": 53,
   "metadata": {},
   "outputs": [
    {
     "name": "stdout",
     "output_type": "stream",
     "text": [
      "Traceback (most recent call last):\n",
      "  File \"/home/jovyan/efs/users/shravan/repository/lead_scoring/scoring/L1/main.py\", line 122, in process\n",
      "    result_dict = inference(node_dict, combined_data, score_request)\n",
      "  File \"/home/jovyan/efs/users/shravan/repository/lead_scoring/scoring/L1/model_inference.py\", line 109, in inference\n",
      "    condition_2 = filters_t[fk] in fv\n",
      "KeyError: 'Source'\n",
      "\n"
     ]
    }
   ],
   "source": [
    "print(x.json()['l1_reason'])"
   ]
  },
  {
   "cell_type": "markdown",
   "metadata": {},
   "source": [
    "### Data prep"
   ]
  },
  {
   "cell_type": "code",
   "execution_count": null,
   "metadata": {},
   "outputs": [],
   "source": [
    "class NpEncoder(json.JSONEncoder):\n",
    "    def default(self, obj):\n",
    "        if isinstance(obj, np.integer):\n",
    "            return int(obj)\n",
    "        if isinstance(obj, np.floating):\n",
    "            return float(obj)\n",
    "        if isinstance(obj, np.ndarray):\n",
    "            return obj.tolist()\n",
    "        return super(NpEncoder, self).default(obj)"
   ]
  },
  {
   "cell_type": "code",
   "execution_count": 24,
   "metadata": {},
   "outputs": [],
   "source": [
    "df = pd.read_csv('~/efs/users/krishi/All EIP/Model Stuff/training_final_neu_df/iter1_bucketwiseData/paid_neu_final_df.csv')\n",
    "df = df.drop(['Id', 'Status'], axis=1)"
   ]
  },
  {
   "cell_type": "code",
   "execution_count": null,
   "metadata": {},
   "outputs": [],
   "source": [
    "idx = random.randint(0, len(df))\n",
    "new_lead_data = df.iloc[idx].to_dict()\n",
    "new_lead_data = json.loads(json.dumps(new_lead_data, cls=NpEncoder))"
   ]
  },
  {
   "cell_type": "code",
   "execution_count": null,
   "metadata": {},
   "outputs": [],
   "source": [
    "\"paid_leads_object_data\" = [\"MedicareFAQ\", \"Medicare\", \"Facebook\"]\n",
    "\"paid_leads_object_data\" = [\"MedicareFAQ\", \"Medicare\", \"Facebook\"]"
   ]
  },
  {
   "cell_type": "code",
   "execution_count": null,
   "metadata": {},
   "outputs": [],
   "source": [
    "payload['resultset']['results']['input']['result'] = dict(data=new_lead_data)"
   ]
  },
  {
   "cell_type": "code",
   "execution_count": null,
   "metadata": {},
   "outputs": [],
   "source": [
    "x = requests.post('http://127.0.0.1:9000/api/v1/process', json=payload) "
   ]
  },
  {
   "cell_type": "code",
   "execution_count": null,
   "metadata": {},
   "outputs": [],
   "source": [
    "print(x.text)"
   ]
  },
  {
   "cell_type": "code",
   "execution_count": null,
   "metadata": {},
   "outputs": [],
   "source": [
    "enc = pickle.load(open('../../../scoring/L1/encoders/label_encoders/label_encoders_partner.pkl', 'rb'))"
   ]
  },
  {
   "cell_type": "code",
   "execution_count": null,
   "metadata": {},
   "outputs": [],
   "source": [
    "for k,v in enc.items():\n",
    "    val = set(['others', 'unknown'])\n",
    "    cle = set(v.classes_)\n",
    "    \n",
    "    unknown_variables = list(val.difference(cle))\n",
    "    \n",
    "    if len(unknown_variables) == 2:\n",
    "        pass\n",
    "    else:\n",
    "        print(k)"
   ]
  },
  {
   "cell_type": "code",
   "execution_count": null,
   "metadata": {},
   "outputs": [],
   "source": []
  }
 ],
 "metadata": {
  "kernelspec": {
   "display_name": "Python 3",
   "language": "python",
   "name": "python3"
  },
  "language_info": {
   "codemirror_mode": {
    "name": "ipython",
    "version": 3
   },
   "file_extension": ".py",
   "mimetype": "text/x-python",
   "name": "python",
   "nbconvert_exporter": "python",
   "pygments_lexer": "ipython3",
   "version": "3.7.4"
  }
 },
 "nbformat": 4,
 "nbformat_minor": 4
}
